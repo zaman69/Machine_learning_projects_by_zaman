{
  "nbformat": 4,
  "nbformat_minor": 0,
  "metadata": {
    "colab": {
      "provenance": []
    },
    "kernelspec": {
      "name": "python3",
      "display_name": "Python 3"
    },
    "language_info": {
      "name": "python"
    }
  },
  "cells": [
    {
      "cell_type": "code",
      "execution_count": null,
      "metadata": {
        "id": "Wo5CSgCRpXke"
      },
      "outputs": [],
      "source": [
        "# importing numpy library\n",
        "import numpy as np\n"
      ]
    },
    {
      "cell_type": "code",
      "source": [
        "class Linear_Regression:\n",
        "  # initiating the parameters(learning rate & no of iterations)\n",
        "  def _init_(self,learning_rate,no_of_iterations ):\n",
        "    self.learning_rate = learning_rate\n",
        "    self.no_of_iterations = no_of_iterations\n",
        "\n",
        "  def fit(self,X,Y):\n",
        " # NUMBER OF TRAINING EXAMPLESAND NUMBER OF FEATURES ,m= no of data points, n= number of features\n",
        " self.m , self.n = X.shape\n",
        " #initiating the weight and bias\n",
        " self.w = np.zeros(self.n)\n",
        " self.b = 0\n",
        " self.X = X\n",
        " self.Y = Y\n",
        " # implementing gradient descent for optimization\n",
        " for i in range(self.no_of_iterations):\n",
        "  self.update_weights()\n",
        "\n",
        "\n",
        "\n",
        "  def update_weights(self):\n",
        "    Y_prediction = self.predict(self.X)\n",
        "    # calculating gradients\n",
        "    dw  = - (2 * (self.X.T).dot(self.Y - Y_prediction)) / self.m\n",
        "    db = - 2 * np.sum(self.Y - Y_prediction)/self.m\n",
        "    #updating the weights\n",
        "    self.w = self.w - self.learning_rate * dw\n",
        "    self.b = self.b - self.learning_rate * db\n",
        "\n",
        "  def predict(self,X):\n",
        "    return X.dot(self.w) + self.b\n"
      ],
      "metadata": {
        "id": "y6ao-rQwqgtT"
      },
      "execution_count": null,
      "outputs": []
    },
    {
      "cell_type": "code",
      "source": [
        "from sklearn.linear_model import LogisticRegression\n",
        "model = LogisticRegression()"
      ],
      "metadata": {
        "id": "CanL6dzurxPI"
      },
      "execution_count": null,
      "outputs": []
    },
    {
      "cell_type": "code",
      "source": [
        "model = Linear_Regression()"
      ],
      "metadata": {
        "id": "0MfQP4VpsCMC"
      },
      "execution_count": null,
      "outputs": []
    }
  ]
}